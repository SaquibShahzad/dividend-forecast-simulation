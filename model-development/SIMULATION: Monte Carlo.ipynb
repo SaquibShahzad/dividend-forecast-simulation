{
 "cells": [
  {
   "cell_type": "markdown",
   "metadata": {},
   "source": [
    "<h2> Import Requirements </h2>"
   ]
  },
  {
   "cell_type": "code",
   "execution_count": null,
   "metadata": {
    "scrolled": true
   },
   "outputs": [],
   "source": [
    "!pip install pandas\n",
    "!pip install numpy\n",
    "!pip install scipy\n",
    "!pip install sklearn"
   ]
  },
  {
   "cell_type": "code",
   "execution_count": 69,
   "metadata": {},
   "outputs": [],
   "source": [
    "import pandas as pd\n",
    "import numpy as np\n",
    "import scipy as sp\n",
    "import gc\n",
    "import sklearn\n",
    "import pickle"
   ]
  },
  {
   "cell_type": "code",
   "execution_count": 71,
   "metadata": {},
   "outputs": [],
   "source": [
    "classifcols = pd.read_pickle('../data/classifcols.pkl')\n",
    "regrcols = pd.read_pickle('../data/regrcols.pkl')\n",
    "labencdist = pd.read_pickle('../data/labencdist.pkl')\n",
    "labencsector = pd.read_pickle('../data/labencsector.pkl')\n",
    "onehotenc = pd.read_pickle('../data/onehotenc.pkl')\n",
    "classifmdl = pd.read_pickle('../data/divclassifrf.pkl')\n",
    "#Please ensure that the right regression model is loaded. GitHub denied loading of the full 50 MB file, and had to\n",
    "#be externally added to this Jupyter notebook\n",
    "regrmdl = pd.read_pickle('../data/divregrrf.pkl')"
   ]
  },
  {
   "cell_type": "markdown",
   "metadata": {},
   "source": [
    "<h2> Define Supplementary Functions to Aid Monte Carlo Simulations </h2>"
   ]
  },
  {
   "cell_type": "markdown",
   "metadata": {},
   "source": [
    "While it would be ideal to get inputs for all data values we undertake, it is in interest of user ease that we create a tradeoff of accuracy and convenience. Hence, using the notion of correlation, we take only five growth rate inputs and approximate model inputs accordingly."
   ]
  },
  {
   "cell_type": "markdown",
   "metadata": {},
   "source": [
    "<b> STEP 1 - Define 5 Buckets for Model Variables </b>"
   ]
  },
  {
   "cell_type": "code",
   "execution_count": 86,
   "metadata": {},
   "outputs": [],
   "source": [
    "totcols = list(set(classifcols).union(set(regrcols)).union(set(['Div_Paid?'])))\n",
    "liabcols = ['Short-term debt','Accounts payable', 'Taxes payable',\n",
    "            'Accrued liabilities','Other current liabilities', \n",
    "            'Total current liabilities','Long-term debt','Average Payables',\n",
    "            'Deferred taxes liabilities','Other long-term liabilities', \n",
    "            'Total non-current liabilities','Total liabilities',\n",
    "            'Days Payables Outstanding','Payables Turnover']\n",
    "assetcols = ['Total cash','Receivables','Inventories','Prepaid expenses', \n",
    "             'Other current assets','Total current assets','Goodwill',\n",
    "             'Gross property, plant and equipment','Other long-term assets',\n",
    "             'Net property, plant and equipment','Intangible assets', \n",
    "             'Total non-current assets','Total assets','Average Inventory',\n",
    "             'Average Receivables',\"Total liabilities and stockholders' equity\",\n",
    "             'Cash per Share','Days Sales Outstanding','Days of Inventory on Hand',\n",
    "             'Inventory Turnover']\n",
    "inccols = ['Gross profit','Research and development','Operating income', \n",
    "           'Sales, General and administrative','Interest Expense',\n",
    "           'Total operating expenses', 'Other income (expense)', \n",
    "           'Income before taxes','Provision for income taxes', 'Net income', \n",
    "           'Basic_EPS','Diluted_EPS', 'EBITDA', 'Interest Coverage',\n",
    "           'Net Income per Share'] \n",
    "equitycols = ['Common stock', 'Additional paid-in capital','Retained earnings', \n",
    "              'Treasury stock','Accumulated other comprehensive income',\n",
    "              'Market Cap', 'Book Value per Share','Invested Capital',\n",
    "              \"Shareholders Equity per Share\"]\n",
    "entvcols = ['EV to Free cash flow','Enterprise Value','stockprc','mth12stockratio',\n",
    "            'mth6stockratio', 'PFCF ratio']\n",
    "revcols = ['Revenue', 'Revenue per Share']"
   ]
  },
  {
   "cell_type": "markdown",
   "metadata": {},
   "source": [
    "<b> STEP 2 - Define Model Input and Updating Methods </b>"
   ]
  },
  {
   "cell_type": "code",
   "execution_count": null,
   "metadata": {},
   "outputs": [],
   "source": [
    "\n",
    "def mdlinpt(comp):\n",
    "    alldata = pd.read_pickle('../data/sp500finaldata.pkl')\n",
    "    alldata.sort_values(by=['firm', 'Year'], ascending=[True, True], inplace=True)\n",
    "    distenc = pd.DataFrame(labencdist.transform(alldata['DistanceFromLast']))\n",
    "    sectenc = pd.DataFrame(labencsector.transform(alldata['Sector']))\n",
    "    hotencoded = onehotenc.transform(pd.concat([sectenc, distenc], axis=1))\n",
    "    namesdist = ['DistLast_'+i for i in labencdist.classes_]\n",
    "    namessect = ['Sector_'+i for i in labencsector.classes_]\n",
    "    names = np.append(namessect, namesdist)\n",
    "    hotencoded = pd.DataFrame(hotencoded, columns=names)\n",
    "    alldata.drop(['Sector', 'DistanceFromLast'], axis=1, inplace=True)\n",
    "    alldata = pd.concat([alldata, hotencoded], axis=1)\n",
    "    maxrec = alldata[(alldata.firm==comp) & (alldata.firm != alldata.firm.shift(-1))]\n",
    "    maxrec = maxrec[totcols].reset_index(drop=True)\n",
    "    return maxrec\n",
    "\n",
    "def updater(maxrec, grrev, grinc, grasset, grliab, grentv):\n",
    "    maxrec[assetcols] *= (1+ grasset/100)\n",
    "    maxrec[liabcols] *= (1 + grliab/100)\n",
    "    maxrec[inccols] *= (1 + grinc/100)\n",
    "    maxrec[revcols] *= (1 + grrev/100)\n",
    "    maxrec['Cost of revenue'] = maxrec['Revenue'] - maxrec['Gross profit']\n",
    "    if isinstance(maxrec[\"Total stockholders' equity\"], pd.Series):\n",
    "        oldeq = maxrec[\"Total stockholders' equity\"].reset_index(drop=True)[0]\n",
    "    else:\n",
    "        oldeq = maxrec[\"Total stockholders' equity\"]\n",
    "    maxrec[\"Total stockholders' equity\"] = maxrec['Total assets'] - maxrec['Total liabilities']\n",
    "    if isinstance(maxrec[\"Total stockholders' equity\"], pd.Series):\n",
    "        oldeq = maxrec[\"Total stockholders' equity\"].reset_index(drop=True)[0] / oldeq\n",
    "    else:\n",
    "        oldeq = maxrec[\"Total stockholders' equity\"] / oldeq\n",
    "    maxrec[equitycols] *= oldeq\n",
    "    maxrec[entvcols] *= grentv\n",
    "    #Updated final ratios\n",
    "    maxrec['Intangibles to Total Assets']  = maxrec['Intangible assets'] / maxrec['Total assets']\n",
    "    maxrec['Debt to Assets'] = maxrec['Total liabilities'] / maxrec['Total assets']\n",
    "    maxrec['EV to Sales'] = maxrec['Enterprise Value'] / maxrec['Revenue']\n",
    "    maxrec['Enterprise Value over EBITDA'] = maxrec['Enterprise Value'] / maxrec['EBITDA']\n",
    "    maxrec['R&D to Revenue'] = maxrec['Research and development'] / maxrec['Revenue']\n",
    "    maxrec['SG&A to Revenue'] = maxrec['Sales, General and administrative'] / maxrec['Revenue']\n",
    "    maxrec['Price to Sales Ratio'] *= grentv/grrev\n",
    "    maxrec['Paid_LastYr?'] = maxrec['Div_Paid?']\n",
    "    maxrec['Net Debt to EBITDA'] = maxrec['Total liabilities'] / maxrec['EBITDA']\n",
    "    maxrec['currentRatio'] = maxrec['Total current assets'] / maxrec['Total current liabilities']\n",
    "    maxrec['grossProfitMargin'] = maxrec['Gross profit'] / maxrec['Revenue']\n",
    "    maxrec['operatingProfitMargin'] = maxrec['Operating income'] / maxrec['Revenue']\n",
    "    maxrec['assetTurnover'] = maxrec['Revenue'] / maxrec['Total assets']\n",
    "    maxrec['returnOnAssets'] = maxrec['Net income'] / maxrec['Total assets']\n",
    "    maxrec['Net Current Asset Value'] = maxrec['Total current assets'] - maxrec['Total liabilities']\n",
    "    maxrec['PB ratio'] = maxrec['stockprc'] / maxrec['Book Value per Share']\n",
    "    return maxrec"
   ]
  },
  {
   "cell_type": "markdown",
   "metadata": {},
   "source": [
    "<h2> Perform 10-Year Monte Carlo Simulations </h2>"
   ]
  },
  {
   "cell_type": "code",
   "execution_count": 87,
   "metadata": {},
   "outputs": [
    {
     "name": "stdout",
     "output_type": "stream",
     "text": [
      "0\n",
      "1\n",
      "2\n",
      "3\n",
      "4\n",
      "5\n",
      "6\n",
      "7\n",
      "8\n",
      "9\n"
     ]
    },
    {
     "data": {
      "text/plain": [
       "array([3.67837426, 3.59603852, 3.83889123, 3.86220609, 3.79037436,\n",
       "       3.8496717 , 3.84270719, 3.85981045, 3.80475313, 3.76600644])"
      ]
     },
     "execution_count": 87,
     "metadata": {},
     "output_type": "execute_result"
    }
   ],
   "source": [
    "def simulate(comp, grrev, grinc, grasset, grliab, grentv):\n",
    "    firstfile = updater(mdlinpt(comp), grrev, grinc, grasset, grliab, grentv)\n",
    "    firstfile = firstfile.loc[np.array([0]).repeat(1000)]\n",
    "    firstfile.reset_index(drop=True, inplace=True)\n",
    "    np.random.seed(1)\n",
    "    rand = pd.DataFrame(np.random.random((1000, 10)))\n",
    "    state = pd.DataFrame(np.zeros((1000, 11)))\n",
    "    lossarr = np.zeros(10)\n",
    "    state.iloc[:,0] = firstfile['Div_Paid?']\n",
    "    divarr = np.zeros(10)\n",
    "    for yr in range(0, 10):\n",
    "        print(yr)\n",
    "        probs = classifmdl.predict_proba(firstfile[classifcols])\n",
    "        probdiv = pd.Series(probs.reshape(1,-1)[0][1::2])\n",
    "        state[yr+1] = ((rand[yr] < probdiv) * 1)\n",
    "        regrprobs = pd.Series(regrmdl.predict(firstfile[regrcols]))\n",
    "        lossarr[yr] = sum(regrprobs[state[yr+1] == True])/1000\n",
    "        #Update dynamic variables\n",
    "        firstfile['Div_Paid?'] = state[yr+1]\n",
    "        firstfile = firstfile.apply(lambda s: updater(s, grrev, grinc, grasset, grliab, grentv), axis=1)\n",
    "    return lossarr\n",
    "    \n",
    "simulate('MSFT',1,2,3,4,5)"
   ]
  },
  {
   "cell_type": "code",
   "execution_count": null,
   "metadata": {},
   "outputs": [],
   "source": []
  }
 ],
 "metadata": {
  "kernelspec": {
   "display_name": "Python 3",
   "language": "python",
   "name": "python3"
  },
  "language_info": {
   "codemirror_mode": {
    "name": "ipython",
    "version": 3
   },
   "file_extension": ".py",
   "mimetype": "text/x-python",
   "name": "python",
   "nbconvert_exporter": "python",
   "pygments_lexer": "ipython3",
   "version": "3.7.3"
  }
 },
 "nbformat": 4,
 "nbformat_minor": 2
}
