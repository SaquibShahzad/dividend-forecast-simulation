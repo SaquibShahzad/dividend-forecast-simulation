{
 "cells": [
  {
   "cell_type": "markdown",
   "metadata": {},
   "source": [
    "<h2> Import Libraries </h2>"
   ]
  },
  {
   "cell_type": "code",
   "execution_count": 1,
   "metadata": {},
   "outputs": [
    {
     "name": "stdout",
     "output_type": "stream",
     "text": [
      "Collecting lime\n",
      "\u001b[?25l  Downloading https://files.pythonhosted.org/packages/07/20/a4a59ed562610e19fea333da48bb5fab978a72acbe8e831930f444cd69c9/lime-0.1.1.34.tar.gz (272kB)\n",
      "\u001b[K     |████████████████████████████████| 276kB 3.4MB/s \n",
      "\u001b[?25hRequirement already satisfied: numpy in /srv/conda/envs/notebook/lib/python3.6/site-packages (from lime) (1.15.2)\n",
      "Requirement already satisfied: scipy in /srv/conda/envs/notebook/lib/python3.6/site-packages (from lime) (1.1.0)\n",
      "Requirement already satisfied: scikit-learn>=0.18 in /srv/conda/envs/notebook/lib/python3.6/site-packages (from lime) (0.19.2)\n",
      "Requirement already satisfied: matplotlib in /srv/conda/envs/notebook/lib/python3.6/site-packages (from lime) (3.1.0)\n",
      "Requirement already satisfied: scikit-image>=0.12 in /srv/conda/envs/notebook/lib/python3.6/site-packages (from lime) (0.13.1)\n",
      "Requirement already satisfied: python-dateutil>=2.1 in /srv/conda/envs/notebook/lib/python3.6/site-packages (from matplotlib->lime) (2.8.0)\n",
      "Requirement already satisfied: kiwisolver>=1.0.1 in /srv/conda/envs/notebook/lib/python3.6/site-packages (from matplotlib->lime) (1.1.0)\n",
      "Requirement already satisfied: pyparsing!=2.0.4,!=2.1.2,!=2.1.6,>=2.0.1 in /srv/conda/envs/notebook/lib/python3.6/site-packages (from matplotlib->lime) (2.4.0)\n",
      "Requirement already satisfied: cycler>=0.10 in /srv/conda/envs/notebook/lib/python3.6/site-packages (from matplotlib->lime) (0.10.0)\n",
      "Requirement already satisfied: six>=1.7.3 in /srv/conda/envs/notebook/lib/python3.6/site-packages (from scikit-image>=0.12->lime) (1.12.0)\n",
      "Requirement already satisfied: networkx>=1.8 in /srv/conda/envs/notebook/lib/python3.6/site-packages (from scikit-image>=0.12->lime) (2.3)\n",
      "Requirement already satisfied: pillow>=2.1.0 in /srv/conda/envs/notebook/lib/python3.6/site-packages (from scikit-image>=0.12->lime) (6.0.0)\n",
      "Requirement already satisfied: PyWavelets>=0.4.0 in /srv/conda/envs/notebook/lib/python3.6/site-packages (from scikit-image>=0.12->lime) (1.0.3)\n",
      "Requirement already satisfied: setuptools in /srv/conda/envs/notebook/lib/python3.6/site-packages (from kiwisolver>=1.0.1->matplotlib->lime) (41.0.1)\n",
      "Requirement already satisfied: decorator>=4.3.0 in /srv/conda/envs/notebook/lib/python3.6/site-packages (from networkx>=1.8->scikit-image>=0.12->lime) (4.4.0)\n",
      "Building wheels for collected packages: lime\n",
      "  Building wheel for lime (setup.py) ... \u001b[?25ldone\n",
      "\u001b[?25h  Stored in directory: /home/jovyan/.cache/pip/wheels/2f/8e/c1/c1cddd9cf8fbae812904fa5c84ef571e782891288d309d04c8\n",
      "Successfully built lime\n",
      "Installing collected packages: lime\n",
      "Successfully installed lime-0.1.1.34\n",
      "Collecting shap\n",
      "\u001b[?25l  Downloading https://files.pythonhosted.org/packages/89/9b/aa05f0c7aaac33137d3bbeff9b87e539aedcf18797490485cc5e93f57c48/shap-0.29.2.tar.gz (230kB)\n",
      "\u001b[K     |████████████████████████████████| 235kB 3.4MB/s \n",
      "\u001b[?25hRequirement already satisfied: numpy in /srv/conda/envs/notebook/lib/python3.6/site-packages (from shap) (1.15.2)\n",
      "Requirement already satisfied: scipy in /srv/conda/envs/notebook/lib/python3.6/site-packages (from shap) (1.1.0)\n",
      "Requirement already satisfied: scikit-learn in /srv/conda/envs/notebook/lib/python3.6/site-packages (from shap) (0.19.2)\n",
      "Requirement already satisfied: matplotlib in /srv/conda/envs/notebook/lib/python3.6/site-packages (from shap) (3.1.0)\n",
      "Requirement already satisfied: pandas in /srv/conda/envs/notebook/lib/python3.6/site-packages (from shap) (0.24.2)\n",
      "Collecting tqdm>4.25.0 (from shap)\n",
      "\u001b[?25l  Downloading https://files.pythonhosted.org/packages/9f/3d/7a6b68b631d2ab54975f3a4863f3c4e9b26445353264ef01f465dc9b0208/tqdm-4.32.2-py2.py3-none-any.whl (50kB)\n",
      "\u001b[K     |████████████████████████████████| 51kB 5.2MB/s \n",
      "\u001b[?25hRequirement already satisfied: ipython in /srv/conda/envs/notebook/lib/python3.6/site-packages (from shap) (7.5.0)\n",
      "Requirement already satisfied: scikit-image in /srv/conda/envs/notebook/lib/python3.6/site-packages (from shap) (0.13.1)\n",
      "Requirement already satisfied: pyparsing!=2.0.4,!=2.1.2,!=2.1.6,>=2.0.1 in /srv/conda/envs/notebook/lib/python3.6/site-packages (from matplotlib->shap) (2.4.0)\n",
      "Requirement already satisfied: kiwisolver>=1.0.1 in /srv/conda/envs/notebook/lib/python3.6/site-packages (from matplotlib->shap) (1.1.0)\n",
      "Requirement already satisfied: python-dateutil>=2.1 in /srv/conda/envs/notebook/lib/python3.6/site-packages (from matplotlib->shap) (2.8.0)\n",
      "Requirement already satisfied: cycler>=0.10 in /srv/conda/envs/notebook/lib/python3.6/site-packages (from matplotlib->shap) (0.10.0)\n",
      "Requirement already satisfied: pytz>=2011k in /srv/conda/envs/notebook/lib/python3.6/site-packages (from pandas->shap) (2019.1)\n",
      "Requirement already satisfied: backcall in /srv/conda/envs/notebook/lib/python3.6/site-packages (from ipython->shap) (0.1.0)\n",
      "Requirement already satisfied: pygments in /srv/conda/envs/notebook/lib/python3.6/site-packages (from ipython->shap) (2.4.2)\n",
      "Requirement already satisfied: pickleshare in /srv/conda/envs/notebook/lib/python3.6/site-packages (from ipython->shap) (0.7.5)\n",
      "Requirement already satisfied: setuptools>=18.5 in /srv/conda/envs/notebook/lib/python3.6/site-packages (from ipython->shap) (41.0.1)\n",
      "Requirement already satisfied: decorator in /srv/conda/envs/notebook/lib/python3.6/site-packages (from ipython->shap) (4.4.0)\n",
      "Requirement already satisfied: pexpect; sys_platform != \"win32\" in /srv/conda/envs/notebook/lib/python3.6/site-packages (from ipython->shap) (4.7.0)\n",
      "Requirement already satisfied: prompt-toolkit<2.1.0,>=2.0.0 in /srv/conda/envs/notebook/lib/python3.6/site-packages (from ipython->shap) (2.0.9)\n",
      "Requirement already satisfied: traitlets>=4.2 in /srv/conda/envs/notebook/lib/python3.6/site-packages (from ipython->shap) (4.3.2)\n",
      "Requirement already satisfied: jedi>=0.10 in /srv/conda/envs/notebook/lib/python3.6/site-packages (from ipython->shap) (0.13.3)\n",
      "Requirement already satisfied: six>=1.7.3 in /srv/conda/envs/notebook/lib/python3.6/site-packages (from scikit-image->shap) (1.12.0)\n",
      "Requirement already satisfied: networkx>=1.8 in /srv/conda/envs/notebook/lib/python3.6/site-packages (from scikit-image->shap) (2.3)\n",
      "Requirement already satisfied: pillow>=2.1.0 in /srv/conda/envs/notebook/lib/python3.6/site-packages (from scikit-image->shap) (6.0.0)\n",
      "Requirement already satisfied: PyWavelets>=0.4.0 in /srv/conda/envs/notebook/lib/python3.6/site-packages (from scikit-image->shap) (1.0.3)\n",
      "Requirement already satisfied: ptyprocess>=0.5 in /srv/conda/envs/notebook/lib/python3.6/site-packages (from pexpect; sys_platform != \"win32\"->ipython->shap) (0.6.0)\n",
      "Requirement already satisfied: wcwidth in /srv/conda/envs/notebook/lib/python3.6/site-packages (from prompt-toolkit<2.1.0,>=2.0.0->ipython->shap) (0.1.7)\n",
      "Requirement already satisfied: ipython_genutils in /srv/conda/envs/notebook/lib/python3.6/site-packages (from traitlets>=4.2->ipython->shap) (0.2.0)\n",
      "Requirement already satisfied: parso>=0.3.0 in /srv/conda/envs/notebook/lib/python3.6/site-packages (from jedi>=0.10->ipython->shap) (0.4.0)\n",
      "Building wheels for collected packages: shap\n",
      "  Building wheel for shap (setup.py) ... \u001b[?25ldone\n",
      "\u001b[?25h  Stored in directory: /home/jovyan/.cache/pip/wheels/14/42/0c/c07f5fdfb68e06b525d2ba984f50c83f1e5ebd3d2680852aa5\n",
      "Successfully built shap\n",
      "Installing collected packages: tqdm, shap\n",
      "Successfully installed shap-0.29.2 tqdm-4.32.2\n",
      "Collecting eli5\n",
      "\u001b[?25l  Downloading https://files.pythonhosted.org/packages/ee/2b/246db9e1c2d6f38e999daf0c4d5e54f36fbd0b937ffb13a34d32c2139403/eli5-0.8.2-py2.py3-none-any.whl (98kB)\n",
      "\u001b[K     |████████████████████████████████| 102kB 2.6MB/s \n",
      "\u001b[?25hCollecting typing (from eli5)\n",
      "  Downloading https://files.pythonhosted.org/packages/28/b8/a1d6b7cf322f91305bcb5e7d8f6c3028954d1e3e716cddc1cdce2ac63247/typing-3.7.4-py3-none-any.whl\n",
      "Requirement already satisfied: numpy>=1.9.0 in /srv/conda/envs/notebook/lib/python3.6/site-packages (from eli5) (1.15.2)\n",
      "Requirement already satisfied: scikit-learn>=0.18 in /srv/conda/envs/notebook/lib/python3.6/site-packages (from eli5) (0.19.2)\n",
      "Requirement already satisfied: six in /srv/conda/envs/notebook/lib/python3.6/site-packages (from eli5) (1.12.0)\n",
      "Collecting tabulate>=0.7.7 (from eli5)\n",
      "\u001b[?25l  Downloading https://files.pythonhosted.org/packages/c2/fd/202954b3f0eb896c53b7b6f07390851b1fd2ca84aa95880d7ae4f434c4ac/tabulate-0.8.3.tar.gz (46kB)\n",
      "\u001b[K     |████████████████████████████████| 51kB 6.7MB/s \n",
      "\u001b[?25hRequirement already satisfied: attrs>16.0.0 in /srv/conda/envs/notebook/lib/python3.6/site-packages (from eli5) (19.1.0)\n",
      "Requirement already satisfied: jinja2 in /srv/conda/envs/notebook/lib/python3.6/site-packages (from eli5) (2.10.1)\n",
      "Collecting graphviz (from eli5)\n",
      "  Downloading https://files.pythonhosted.org/packages/af/ae/e1c63ac4c531d69a7960a99af99e184d4f3da15e29f67767c4252bf19cce/graphviz-0.11-py2.py3-none-any.whl\n",
      "Requirement already satisfied: scipy in /srv/conda/envs/notebook/lib/python3.6/site-packages (from eli5) (1.1.0)\n",
      "Requirement already satisfied: MarkupSafe>=0.23 in /srv/conda/envs/notebook/lib/python3.6/site-packages (from jinja2->eli5) (1.1.1)\n",
      "Building wheels for collected packages: tabulate\n",
      "  Building wheel for tabulate (setup.py) ... \u001b[?25ldone\n",
      "\u001b[?25h  Stored in directory: /home/jovyan/.cache/pip/wheels/2b/67/89/414471314a2d15de625d184d8be6d38a03ae1e983dbda91e84\n",
      "Successfully built tabulate\n",
      "Installing collected packages: typing, tabulate, graphviz, eli5\n",
      "Successfully installed eli5-0.8.2 graphviz-0.11 tabulate-0.8.3 typing-3.7.4\n"
     ]
    }
   ],
   "source": [
    "!pip install lime\n",
    "!pip install shap\n",
    "!pip install eli5"
   ]
  },
  {
   "cell_type": "code",
   "execution_count": 21,
   "metadata": {},
   "outputs": [],
   "source": [
    "#Data handling\n",
    "import pandas as pd\n",
    "import numpy as np\n",
    "import scipy as sp\n",
    "import gc\n",
    "import pickle\n",
    "#preprocessing and feature selection\n",
    "import sklearn.preprocessing\n",
    "from sklearn.preprocessing import Imputer\n",
    "from sklearn.preprocessing import OneHotEncoder, LabelEncoder\n",
    "from sklearn.preprocessing import MinMaxScaler\n",
    "from sklearn.feature_selection import RFE, VarianceThreshold\n",
    "from sklearn.feature_selection import SelectFromModel, SelectKBest, chi2\n",
    "from sklearn.model_selection import train_test_split, RandomizedSearchCV\n",
    "#models\n",
    "from sklearn.ensemble import RandomForestClassifier, RandomForestRegressor\n",
    "from sklearn.neural_network import MLPClassifier\n",
    "from sklearn.gaussian_process import GaussianProcessClassifier\n",
    "#evaluation and interpretability\n",
    "import lime\n",
    "import shap\n",
    "import eli5\n",
    "import sklearn.metrics"
   ]
  },
  {
   "cell_type": "markdown",
   "metadata": {},
   "source": [
    "<h2> Pre-process Data for Model Training </h2>"
   ]
  },
  {
   "cell_type": "markdown",
   "metadata": {},
   "source": [
    "<b> STEP 1: Encode Datasets <b>"
   ]
  },
  {
   "cell_type": "code",
   "execution_count": 43,
   "metadata": {},
   "outputs": [
    {
     "data": {
      "text/plain": [
       "firm                object\n",
       "Sector              object\n",
       "DistanceFromLast    object\n",
       "dtype: object"
      ]
     },
     "execution_count": 43,
     "metadata": {},
     "output_type": "execute_result"
    }
   ],
   "source": [
    "alldata = pd.read_pickle('sp500finaldata.pkl')\n",
    "#The only features that need to be label encoded are 'Sector' and 'DistanceFromLast'\n",
    "alldata.dtypes[alldata.dtypes=='object']"
   ]
  },
  {
   "cell_type": "code",
   "execution_count": 44,
   "metadata": {},
   "outputs": [
    {
     "name": "stdout",
     "output_type": "stream",
     "text": [
      "[4 4 4 ... 4 4 4]\n",
      "[6 0 0 ... 0 0 0]\n"
     ]
    }
   ],
   "source": [
    "labenc = LabelEncoder()\n",
    "labenc.fit(alldata['Sector'])\n",
    "with open('labencsector.pkl', 'wb') as q:\n",
    "    pickle.dump(labenc, q)\n",
    "print(labenc.transform(alldata['Sector']))\n",
    "alldata['Sector'] = labenc.transform(alldata['Sector'])\n",
    "labenc1 = LabelEncoder()\n",
    "labenc1.fit(alldata['DistanceFromLast'])\n",
    "with open('labencdist.pkl', 'wb') as q:\n",
    "    pickle.dump(labenc1, q)\n",
    "print(labenc1.transform(alldata['DistanceFromLast']))\n",
    "alldata['DistanceFromLast'] = labenc1.transform(alldata['DistanceFromLast'])\n"
   ]
  },
  {
   "cell_type": "code",
   "execution_count": 45,
   "metadata": {},
   "outputs": [
    {
     "name": "stdout",
     "output_type": "stream",
     "text": [
      "[[0. 0. 0. ... 0. 0. 1.]\n",
      " [0. 0. 0. ... 0. 0. 0.]\n",
      " [0. 0. 0. ... 0. 0. 0.]\n",
      " ...\n",
      " [0. 0. 0. ... 0. 0. 0.]\n",
      " [0. 0. 0. ... 0. 0. 0.]\n",
      " [0. 0. 0. ... 0. 0. 0.]]\n"
     ]
    }
   ],
   "source": [
    "onehot = OneHotEncoder(sparse=False)\n",
    "#Since we would be dropping the 'firm' feature, only 'Sector' and 'DistanceFromLast' from above need to be hot-encoded\n",
    "onehot.fit(alldata[['Sector', 'DistanceFromLast']])\n",
    "with open('onehotenc.pkl', 'wb') as q:\n",
    "    pickle.dump(onehot, q)\n",
    "print(onehot.transform(alldata[['Sector', 'DistanceFromLast']]))\n",
    "namessector = ['Sector_'+str(i) for i in labenc.classes_]\n",
    "namesdist = ['DistLast_'+str(i) for i in labenc1.classes_]\n",
    "names = np.append(namessector, namesdist)\n",
    "enc = onehot.transform(alldata[['Sector', 'DistanceFromLast']])\n",
    "enc = pd.DataFrame(enc, columns=names)\n",
    "alldata.drop(['firm', 'Sector', 'DistanceFromLast'], axis=1, inplace=True)\n",
    "alldata = pd.concat([alldata, enc], axis=1)"
   ]
  },
  {
   "cell_type": "markdown",
   "metadata": {},
   "source": [
    "<b> STEP 2 - Separate Two Models </b>"
   ]
  },
  {
   "cell_type": "markdown",
   "metadata": {},
   "source": [
    "We divide our project into two distinct models - one where we attempt to predict 'Div_Paid?' (hence a classifier model predicting whether or not dividends will be paid), and another where we attempt to predict how much dividend, if paid (therefore a regressor model). Let us designate the different datasets for both."
   ]
  },
  {
   "cell_type": "code",
   "execution_count": 55,
   "metadata": {},
   "outputs": [],
   "source": [
    "classifdata = alldata.copy()\n",
    "classifdata.drop(['Dividend'], axis=1, inplace=True)\n",
    "regrdata = alldata[alldata['Div_Paid?']==1].copy()\n",
    "regrdata.drop(['Div_Paid?'], axis=1, inplace=True)\n",
    "classifdata.to_pickle('classifdatafull.pkl')\n",
    "regrdata.to_pickle('regrdatafull.pkl')"
   ]
  },
  {
   "cell_type": "markdown",
   "metadata": {},
   "source": [
    "<h2> Classifier Model - Dividend Outlook </h2>"
   ]
  },
  {
   "cell_type": "markdown",
   "metadata": {},
   "source": [
    " First we work towards the classifier model, and begin with feature selection. Subsequently, we try three different fits - RandomForestClassifier, GaussianProcessClassifier and MLPClassifier."
   ]
  },
  {
   "cell_type": "markdown",
   "metadata": {},
   "source": [
    "<b> STEP 1 - Feature Elimination </b>"
   ]
  },
  {
   "cell_type": "markdown",
   "metadata": {},
   "source": [
    "We perform basic feature elimination here, and leave actual selection to fit based on model. The only selection performed here is chi2 testing (to check relationship to the target variable) and VarianceThreshold (differences within the feature)."
   ]
  },
  {
   "cell_type": "code",
   "execution_count": 46,
   "metadata": {},
   "outputs": [
    {
     "data": {
      "text/plain": [
       "VarianceThreshold(threshold=0.0)"
      ]
     },
     "execution_count": 46,
     "metadata": {},
     "output_type": "execute_result"
    }
   ],
   "source": [
    "t = VarianceThreshold()\n",
    "t.fit(alldata[''])"
   ]
  },
  {
   "cell_type": "code",
   "execution_count": 52,
   "metadata": {},
   "outputs": [
    {
     "data": {
      "text/plain": [
       "array(['Accumulated Depreciation'], dtype=object)"
      ]
     },
     "execution_count": 52,
     "metadata": {},
     "output_type": "execute_result"
    }
   ],
   "source": [
    "alldata.columns.values[t.get_support(indices=False)==False]"
   ]
  },
  {
   "cell_type": "code",
   "execution_count": null,
   "metadata": {},
   "outputs": [],
   "source": []
  },
  {
   "cell_type": "code",
   "execution_count": null,
   "metadata": {},
   "outputs": [],
   "source": []
  }
 ],
 "metadata": {
  "kernelspec": {
   "display_name": "Python 3",
   "language": "python",
   "name": "python3"
  },
  "language_info": {
   "codemirror_mode": {
    "name": "ipython",
    "version": 3
   },
   "file_extension": ".py",
   "mimetype": "text/x-python",
   "name": "python",
   "nbconvert_exporter": "python",
   "pygments_lexer": "ipython3",
   "version": "3.6.7"
  }
 },
 "nbformat": 4,
 "nbformat_minor": 2
}
