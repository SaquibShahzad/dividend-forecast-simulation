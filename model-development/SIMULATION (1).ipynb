{
 "cells": [
  {
   "cell_type": "code",
   "execution_count": null,
   "metadata": {
    "scrolled": true
   },
   "outputs": [],
   "source": [
    "!pip install pandas\n",
    "!pip install numpy\n",
    "!pip install scipy\n",
    "!pip install sklearn"
   ]
  },
  {
   "cell_type": "code",
   "execution_count": 7,
   "metadata": {},
   "outputs": [],
   "source": [
    "import pandas as pd\n",
    "import numpy as np\n",
    "import scipy as sp\n",
    "import gc\n",
    "import sklearn"
   ]
  },
  {
   "cell_type": "code",
   "execution_count": 8,
   "metadata": {},
   "outputs": [],
   "source": [
    "classifcols = pd.read_pickle('../data/classifcols.pkl')\n",
    "regrcols = pd.read_pickle('../data/regrcols.pkl')\n",
    "labencdist = pd.read_pickle('../data/labencdist.pkl')\n",
    "labencsector = pd.read_pickle('../data/labencsector.pkl')\n",
    "onehotenc = pd.read_pickle('../data/onehotenc.pkl')"
   ]
  },
  {
   "cell_type": "code",
   "execution_count": 73,
   "metadata": {},
   "outputs": [],
   "source": [
    "totcols = list(set(classifcols).union(set(regrcols)).union(set(['Div_Paid?'])))\n",
    "liabcols = ['Short-term debt','Accounts payable', 'Taxes payable',\n",
    "            'Accrued liabilities','Other current liabilities', \n",
    "            'Total current liabilities','Long-term debt','Average Payables',\n",
    "            'Deferred taxes liabilities','Other long-term liabilities', \n",
    "            'Total non-current liabilities','Total liabilities',\n",
    "            'Days Payables Outstanding']\n",
    "assetcols = ['Total cash','Receivables','Inventories','Prepaid expenses', \n",
    "             'Other current assets','Total current assets','Goodwill',\n",
    "             'Gross property, plant and equipment','Other long-term assets',\n",
    "             'Net property, plant and equipment','Intangible assets', \n",
    "             'Total non-current assets','Total assets','Average Inventory',\n",
    "             'Average Receivables',\"Total liabilities and stockholders' equity\",\n",
    "             'Cash per Share','Days Sales Outstanding','Days of Inventory on Hand']\n",
    "inccols = ['Gross profit','Research and development','Operating income', \n",
    "           'Sales, General and administrative','Interest Expense',\n",
    "           'Total operating expenses', 'Other income (expense)', \n",
    "           'Income before taxes','Provision for income taxes', 'Net income', \n",
    "           'Basic_EPS','Diluted_EPS', 'EBITDA'] \n",
    "equitycols = ['Common stock', 'Additional paid-in capital','Retained earnings', \n",
    "               'Treasury stock','Accumulated other comprehensive income']\n",
    "\n",
    "def mdlinpt(comp):\n",
    "    alldata = pd.read_pickle('../data/sp500finaldata.pkl')\n",
    "    alldata.sort_values(by=['firm', 'Year'], ascending=[True, True], inplace=True)\n",
    "    distenc = pd.DataFrame(labencdist.transform(alldata['DistanceFromLast']))\n",
    "    sectenc = pd.DataFrame(labencsector.transform(alldata['Sector']))\n",
    "    hotencoded = onehotenc.transform(pd.concat([sectenc, distenc], axis=1))\n",
    "    namesdist = ['DistLast_'+i for i in labencdist.classes_]\n",
    "    namessect = ['Sector_'+i for i in labencsector.classes_]\n",
    "    names = np.append(namessect, namesdist)\n",
    "    hotencoded = pd.DataFrame(hotencoded, columns=names)\n",
    "    alldata.drop(['Sector', 'DistanceFromLast'], axis=1, inplace=True)\n",
    "    alldata = pd.concat([alldata, hotencoded], axis=1)\n",
    "    maxrec = alldata[(alldata.firm==comp) & (alldata.firm != alldata.firm.shift(-1))]\n",
    "    maxrec = maxrec[totcols].reset_index(drop=True)\n",
    "    return maxrec\n",
    "\n",
    "def updater(maxrec, grrev, grinc, grasset, grliab, grcapex):\n",
    "    maxrec[assetcols] *= (1+ grasset/100)\n",
    "    maxrec[liabcols] *= (1 + grliab/100)\n",
    "    maxrec[inccols] *= (1 + grinc/100)\n",
    "    maxrec['Revenue'] *= (1 + grrev/100)\n",
    "    maxrec['Cost of revenue'] = maxrec['Revenue'] - maxrec['Gross profit']\n",
    "    oldeq = maxrec[\"Total stockholders' equity\"]\n",
    "    maxrec[\"Total stockholders' equity\"] = maxrec['Total assets'] - maxrec['Total liabilities']\n",
    "    oldeq = maxrec[\"Total stockholders' equity\"] / oldeq\n",
    "    maxrec[equitycols] *= oldeq\n",
    "    #Updated final ratios\n",
    "    maxrec['Intangibles to Total Assets']  = maxrec['Intangible assets'] / maxrec['Total assets']\n",
    "    \n",
    "    return maxrec"
   ]
  },
  {
   "cell_type": "code",
   "execution_count": 72,
   "metadata": {},
   "outputs": [
    {
     "data": {
      "text/plain": [
       "{'Book Value per Share',\n",
       " 'Capex to Revenue',\n",
       " 'Cost of revenue',\n",
       " 'Debt to Assets',\n",
       " 'DistLast_1',\n",
       " 'DistLast_3',\n",
       " 'DistLast_4',\n",
       " 'DistLast_5',\n",
       " 'DistLast_6',\n",
       " 'Div_Paid?',\n",
       " 'EV to Free cash flow',\n",
       " 'EV to Sales',\n",
       " 'Earnings Yield',\n",
       " 'Enterprise Value',\n",
       " 'Enterprise Value over EBITDA',\n",
       " 'Free Cash Flow Yield',\n",
       " 'Free Cash Flow per Share',\n",
       " 'GDP',\n",
       " 'GNI',\n",
       " 'Graham Net-Net',\n",
       " 'Graham Number',\n",
       " 'Income Quality',\n",
       " 'Index Value',\n",
       " 'Intangibles to Total Assets',\n",
       " 'Interest Coverage',\n",
       " 'Interest Debt per Share',\n",
       " 'Inventory Turnover',\n",
       " 'Invested Capital',\n",
       " 'Market Cap',\n",
       " 'Market_Cap',\n",
       " 'Net Current Asset Value',\n",
       " 'Net Debt to EBITDA',\n",
       " 'Net Income per Share',\n",
       " 'Operating Cash Flow per Share',\n",
       " 'PB ratio',\n",
       " 'PBratio',\n",
       " 'PE ratio',\n",
       " 'PFCF ratio',\n",
       " 'PTB ratio',\n",
       " 'Paid_LastYr?',\n",
       " 'Payables Turnover',\n",
       " 'Price to Sales Ratio',\n",
       " 'PropSectorAvgMktCap',\n",
       " 'R&D to Revenue',\n",
       " 'Revenue',\n",
       " 'Revenue per Share',\n",
       " 'SG&A to Revenue',\n",
       " 'SectPaidLastYr',\n",
       " 'Sector_Real Estate',\n",
       " 'Shareholders Equity per Share',\n",
       " 'Stock-based compensation to Revenue',\n",
       " 'Tangible Book Value per Share',\n",
       " \"Total stockholders' equity\",\n",
       " 'assetTurnover',\n",
       " 'currentRatio',\n",
       " 'grossProfitMargin',\n",
       " 'mth12stockratio',\n",
       " 'mth6stockratio',\n",
       " 'operatingProfitMargin',\n",
       " 'returnOnAssets',\n",
       " 'stockprc'}"
      ]
     },
     "execution_count": 72,
     "metadata": {},
     "output_type": "execute_result"
    }
   ],
   "source": [
    "set(totcols) - set(liabcols) - set(assetcols) - set(equitycols) - set(inccols)"
   ]
  },
  {
   "cell_type": "code",
   "execution_count": 52,
   "metadata": {},
   "outputs": [
    {
     "data": {
      "text/plain": [
       "set()"
      ]
     },
     "execution_count": 52,
     "metadata": {},
     "output_type": "execute_result"
    }
   ],
   "source": [
    "set() - set(totcols)"
   ]
  },
  {
   "cell_type": "code",
   "execution_count": 74,
   "metadata": {},
   "outputs": [
    {
     "ename": "KeyError",
     "evalue": "''",
     "output_type": "error",
     "traceback": [
      "\u001b[0;31m---------------------------------------------------------------------------\u001b[0m",
      "\u001b[0;31mKeyError\u001b[0m                                  Traceback (most recent call last)",
      "\u001b[0;32m/srv/conda/envs/notebook/lib/python3.7/site-packages/pandas/core/indexes/base.py\u001b[0m in \u001b[0;36mget_loc\u001b[0;34m(self, key, method, tolerance)\u001b[0m\n\u001b[1;32m   2656\u001b[0m             \u001b[0;32mtry\u001b[0m\u001b[0;34m:\u001b[0m\u001b[0;34m\u001b[0m\u001b[0;34m\u001b[0m\u001b[0m\n\u001b[0;32m-> 2657\u001b[0;31m                 \u001b[0;32mreturn\u001b[0m \u001b[0mself\u001b[0m\u001b[0;34m.\u001b[0m\u001b[0m_engine\u001b[0m\u001b[0;34m.\u001b[0m\u001b[0mget_loc\u001b[0m\u001b[0;34m(\u001b[0m\u001b[0mkey\u001b[0m\u001b[0;34m)\u001b[0m\u001b[0;34m\u001b[0m\u001b[0;34m\u001b[0m\u001b[0m\n\u001b[0m\u001b[1;32m   2658\u001b[0m             \u001b[0;32mexcept\u001b[0m \u001b[0mKeyError\u001b[0m\u001b[0;34m:\u001b[0m\u001b[0;34m\u001b[0m\u001b[0;34m\u001b[0m\u001b[0m\n",
      "\u001b[0;32mpandas/_libs/index.pyx\u001b[0m in \u001b[0;36mpandas._libs.index.IndexEngine.get_loc\u001b[0;34m()\u001b[0m\n",
      "\u001b[0;32mpandas/_libs/index.pyx\u001b[0m in \u001b[0;36mpandas._libs.index.IndexEngine.get_loc\u001b[0;34m()\u001b[0m\n",
      "\u001b[0;32mpandas/_libs/hashtable_class_helper.pxi\u001b[0m in \u001b[0;36mpandas._libs.hashtable.PyObjectHashTable.get_item\u001b[0;34m()\u001b[0m\n",
      "\u001b[0;32mpandas/_libs/hashtable_class_helper.pxi\u001b[0m in \u001b[0;36mpandas._libs.hashtable.PyObjectHashTable.get_item\u001b[0;34m()\u001b[0m\n",
      "\u001b[0;31mKeyError\u001b[0m: ''",
      "\nDuring handling of the above exception, another exception occurred:\n",
      "\u001b[0;31mKeyError\u001b[0m                                  Traceback (most recent call last)",
      "\u001b[0;32m<ipython-input-74-30bdc9b3e3ed>\u001b[0m in \u001b[0;36m<module>\u001b[0;34m\u001b[0m\n\u001b[0;32m----> 1\u001b[0;31m \u001b[0mupdater\u001b[0m\u001b[0;34m(\u001b[0m\u001b[0mmdlinpt\u001b[0m\u001b[0;34m(\u001b[0m\u001b[0;34m'MSFT'\u001b[0m\u001b[0;34m)\u001b[0m\u001b[0;34m,\u001b[0m\u001b[0;36m1\u001b[0m\u001b[0;34m,\u001b[0m\u001b[0;36m2\u001b[0m\u001b[0;34m,\u001b[0m\u001b[0;36m3\u001b[0m\u001b[0;34m,\u001b[0m\u001b[0;36m4\u001b[0m\u001b[0;34m,\u001b[0m\u001b[0;36m5\u001b[0m\u001b[0;34m)\u001b[0m\u001b[0;34m\u001b[0m\u001b[0;34m\u001b[0m\u001b[0m\n\u001b[0m",
      "\u001b[0;32m<ipython-input-73-b192882ee389>\u001b[0m in \u001b[0;36mupdater\u001b[0;34m(maxrec, grrev, grinc, grasset, grliab, grcapex)\u001b[0m\n\u001b[1;32m     48\u001b[0m     \u001b[0mmaxrec\u001b[0m\u001b[0;34m[\u001b[0m\u001b[0mequitycols\u001b[0m\u001b[0;34m]\u001b[0m \u001b[0;34m*=\u001b[0m \u001b[0moldeq\u001b[0m\u001b[0;34m\u001b[0m\u001b[0;34m\u001b[0m\u001b[0m\n\u001b[1;32m     49\u001b[0m     \u001b[0;31m#Updated final ratios\u001b[0m\u001b[0;34m\u001b[0m\u001b[0;34m\u001b[0m\u001b[0;34m\u001b[0m\u001b[0m\n\u001b[0;32m---> 50\u001b[0;31m     \u001b[0mmaxrec\u001b[0m\u001b[0;34m[\u001b[0m\u001b[0;34m'Intangibles to Total Assets'\u001b[0m\u001b[0;34m]\u001b[0m  \u001b[0;34m=\u001b[0m \u001b[0mmaxrec\u001b[0m\u001b[0;34m[\u001b[0m\u001b[0;34m''\u001b[0m\u001b[0;34m]\u001b[0m\u001b[0;34m\u001b[0m\u001b[0;34m\u001b[0m\u001b[0m\n\u001b[0m\u001b[1;32m     51\u001b[0m     \u001b[0;32mreturn\u001b[0m \u001b[0mmaxrec\u001b[0m\u001b[0;34m\u001b[0m\u001b[0;34m\u001b[0m\u001b[0m\n",
      "\u001b[0;32m/srv/conda/envs/notebook/lib/python3.7/site-packages/pandas/core/frame.py\u001b[0m in \u001b[0;36m__getitem__\u001b[0;34m(self, key)\u001b[0m\n\u001b[1;32m   2925\u001b[0m             \u001b[0;32mif\u001b[0m \u001b[0mself\u001b[0m\u001b[0;34m.\u001b[0m\u001b[0mcolumns\u001b[0m\u001b[0;34m.\u001b[0m\u001b[0mnlevels\u001b[0m \u001b[0;34m>\u001b[0m \u001b[0;36m1\u001b[0m\u001b[0;34m:\u001b[0m\u001b[0;34m\u001b[0m\u001b[0;34m\u001b[0m\u001b[0m\n\u001b[1;32m   2926\u001b[0m                 \u001b[0;32mreturn\u001b[0m \u001b[0mself\u001b[0m\u001b[0;34m.\u001b[0m\u001b[0m_getitem_multilevel\u001b[0m\u001b[0;34m(\u001b[0m\u001b[0mkey\u001b[0m\u001b[0;34m)\u001b[0m\u001b[0;34m\u001b[0m\u001b[0;34m\u001b[0m\u001b[0m\n\u001b[0;32m-> 2927\u001b[0;31m             \u001b[0mindexer\u001b[0m \u001b[0;34m=\u001b[0m \u001b[0mself\u001b[0m\u001b[0;34m.\u001b[0m\u001b[0mcolumns\u001b[0m\u001b[0;34m.\u001b[0m\u001b[0mget_loc\u001b[0m\u001b[0;34m(\u001b[0m\u001b[0mkey\u001b[0m\u001b[0;34m)\u001b[0m\u001b[0;34m\u001b[0m\u001b[0;34m\u001b[0m\u001b[0m\n\u001b[0m\u001b[1;32m   2928\u001b[0m             \u001b[0;32mif\u001b[0m \u001b[0mis_integer\u001b[0m\u001b[0;34m(\u001b[0m\u001b[0mindexer\u001b[0m\u001b[0;34m)\u001b[0m\u001b[0;34m:\u001b[0m\u001b[0;34m\u001b[0m\u001b[0;34m\u001b[0m\u001b[0m\n\u001b[1;32m   2929\u001b[0m                 \u001b[0mindexer\u001b[0m \u001b[0;34m=\u001b[0m \u001b[0;34m[\u001b[0m\u001b[0mindexer\u001b[0m\u001b[0;34m]\u001b[0m\u001b[0;34m\u001b[0m\u001b[0;34m\u001b[0m\u001b[0m\n",
      "\u001b[0;32m/srv/conda/envs/notebook/lib/python3.7/site-packages/pandas/core/indexes/base.py\u001b[0m in \u001b[0;36mget_loc\u001b[0;34m(self, key, method, tolerance)\u001b[0m\n\u001b[1;32m   2657\u001b[0m                 \u001b[0;32mreturn\u001b[0m \u001b[0mself\u001b[0m\u001b[0;34m.\u001b[0m\u001b[0m_engine\u001b[0m\u001b[0;34m.\u001b[0m\u001b[0mget_loc\u001b[0m\u001b[0;34m(\u001b[0m\u001b[0mkey\u001b[0m\u001b[0;34m)\u001b[0m\u001b[0;34m\u001b[0m\u001b[0;34m\u001b[0m\u001b[0m\n\u001b[1;32m   2658\u001b[0m             \u001b[0;32mexcept\u001b[0m \u001b[0mKeyError\u001b[0m\u001b[0;34m:\u001b[0m\u001b[0;34m\u001b[0m\u001b[0;34m\u001b[0m\u001b[0m\n\u001b[0;32m-> 2659\u001b[0;31m                 \u001b[0;32mreturn\u001b[0m \u001b[0mself\u001b[0m\u001b[0;34m.\u001b[0m\u001b[0m_engine\u001b[0m\u001b[0;34m.\u001b[0m\u001b[0mget_loc\u001b[0m\u001b[0;34m(\u001b[0m\u001b[0mself\u001b[0m\u001b[0;34m.\u001b[0m\u001b[0m_maybe_cast_indexer\u001b[0m\u001b[0;34m(\u001b[0m\u001b[0mkey\u001b[0m\u001b[0;34m)\u001b[0m\u001b[0;34m)\u001b[0m\u001b[0;34m\u001b[0m\u001b[0;34m\u001b[0m\u001b[0m\n\u001b[0m\u001b[1;32m   2660\u001b[0m         \u001b[0mindexer\u001b[0m \u001b[0;34m=\u001b[0m \u001b[0mself\u001b[0m\u001b[0;34m.\u001b[0m\u001b[0mget_indexer\u001b[0m\u001b[0;34m(\u001b[0m\u001b[0;34m[\u001b[0m\u001b[0mkey\u001b[0m\u001b[0;34m]\u001b[0m\u001b[0;34m,\u001b[0m \u001b[0mmethod\u001b[0m\u001b[0;34m=\u001b[0m\u001b[0mmethod\u001b[0m\u001b[0;34m,\u001b[0m \u001b[0mtolerance\u001b[0m\u001b[0;34m=\u001b[0m\u001b[0mtolerance\u001b[0m\u001b[0;34m)\u001b[0m\u001b[0;34m\u001b[0m\u001b[0;34m\u001b[0m\u001b[0m\n\u001b[1;32m   2661\u001b[0m         \u001b[0;32mif\u001b[0m \u001b[0mindexer\u001b[0m\u001b[0;34m.\u001b[0m\u001b[0mndim\u001b[0m \u001b[0;34m>\u001b[0m \u001b[0;36m1\u001b[0m \u001b[0;32mor\u001b[0m \u001b[0mindexer\u001b[0m\u001b[0;34m.\u001b[0m\u001b[0msize\u001b[0m \u001b[0;34m>\u001b[0m \u001b[0;36m1\u001b[0m\u001b[0;34m:\u001b[0m\u001b[0;34m\u001b[0m\u001b[0;34m\u001b[0m\u001b[0m\n",
      "\u001b[0;32mpandas/_libs/index.pyx\u001b[0m in \u001b[0;36mpandas._libs.index.IndexEngine.get_loc\u001b[0;34m()\u001b[0m\n",
      "\u001b[0;32mpandas/_libs/index.pyx\u001b[0m in \u001b[0;36mpandas._libs.index.IndexEngine.get_loc\u001b[0;34m()\u001b[0m\n",
      "\u001b[0;32mpandas/_libs/hashtable_class_helper.pxi\u001b[0m in \u001b[0;36mpandas._libs.hashtable.PyObjectHashTable.get_item\u001b[0;34m()\u001b[0m\n",
      "\u001b[0;32mpandas/_libs/hashtable_class_helper.pxi\u001b[0m in \u001b[0;36mpandas._libs.hashtable.PyObjectHashTable.get_item\u001b[0;34m()\u001b[0m\n",
      "\u001b[0;31mKeyError\u001b[0m: ''"
     ]
    }
   ],
   "source": [
    "updater(mdlinpt('MSFT'),1,2,3,4,5)"
   ]
  },
  {
   "cell_type": "code",
   "execution_count": null,
   "metadata": {},
   "outputs": [],
   "source": []
  },
  {
   "cell_type": "code",
   "execution_count": null,
   "metadata": {},
   "outputs": [],
   "source": []
  }
 ],
 "metadata": {
  "kernelspec": {
   "display_name": "Python 3",
   "language": "python",
   "name": "python3"
  },
  "language_info": {
   "codemirror_mode": {
    "name": "ipython",
    "version": 3
   },
   "file_extension": ".py",
   "mimetype": "text/x-python",
   "name": "python",
   "nbconvert_exporter": "python",
   "pygments_lexer": "ipython3",
   "version": "3.7.3"
  }
 },
 "nbformat": 4,
 "nbformat_minor": 2
}
