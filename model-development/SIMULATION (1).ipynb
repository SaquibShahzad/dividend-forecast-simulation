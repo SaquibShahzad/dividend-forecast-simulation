{
 "cells": [
  {
   "cell_type": "code",
   "execution_count": null,
   "metadata": {
    "scrolled": true
   },
   "outputs": [],
   "source": [
    "!pip install pandas\n",
    "!pip install numpy\n",
    "!pip install scipy\n",
    "!pip install sklearn"
   ]
  },
  {
   "cell_type": "code",
   "execution_count": 1,
   "metadata": {},
   "outputs": [],
   "source": [
    "import pandas as pd\n",
    "import numpy as np\n",
    "import scipy as sp\n",
    "import gc\n",
    "import sklearn"
   ]
  },
  {
   "cell_type": "code",
   "execution_count": 2,
   "metadata": {},
   "outputs": [],
   "source": [
    "classifcols = pd.read_pickle('../data/classifcols.pkl')\n",
    "regrcols = pd.read_pickle('../data/regrcols.pkl')\n",
    "labencdist = pd.read_pickle('../data/labencdist.pkl')\n",
    "labencsector = pd.read_pickle('../data/labencsector.pkl')\n",
    "onehotenc = pd.read_pickle('../data/onehotenc.pkl')"
   ]
  },
  {
   "cell_type": "code",
   "execution_count": 10,
   "metadata": {},
   "outputs": [],
   "source": [
    "totcols = list(set(classifcols).union(set(regrcols)).union(set(['Div_Paid?'])))\n",
    "liabcols = ['Short-term debt','Accounts payable', 'Taxes payable',\n",
    "            'Accrued liabilities','Other current liabilities', \n",
    "            'Total current liabilities','Long-term debt','Average Payables',\n",
    "            'Deferred taxes liabilities','Other long-term liabilities', \n",
    "            'Total non-current liabilities','Total liabilities',\n",
    "            'Days Payables Outstanding','Payable Turnover']\n",
    "assetcols = ['Total cash','Receivables','Inventories','Prepaid expenses', \n",
    "             'Other current assets','Total current assets','Goodwill',\n",
    "             'Gross property, plant and equipment','Other long-term assets',\n",
    "             'Net property, plant and equipment','Intangible assets', \n",
    "             'Total non-current assets','Total assets','Average Inventory',\n",
    "             'Average Receivables',\"Total liabilities and stockholders' equity\",\n",
    "             'Cash per Share','Days Sales Outstanding','Days of Inventory on Hand',\n",
    "             'Inventory Turnover']\n",
    "inccols = ['Gross profit','Research and development','Operating income', \n",
    "           'Sales, General and administrative','Interest Expense',\n",
    "           'Total operating expenses', 'Other income (expense)', \n",
    "           'Income before taxes','Provision for income taxes', 'Net income', \n",
    "           'Basic_EPS','Diluted_EPS', 'EBITDA', 'Interest Coverage',\n",
    "           'Net Income per Share'] \n",
    "equitycols = ['Common stock', 'Additional paid-in capital','Retained earnings', \n",
    "              'Treasury stock','Accumulated other comprehensive income',\n",
    "              'Market Cap', 'Book Value per Share','Invested Capital',\n",
    "              \"Shareholders Equity per Share\"]\n",
    "entvcols = ['EV to Free cash flow','Enterprise Value','stockprc','mth12stockratio',\n",
    "            'mth6stockratio', 'PFCF ratio']\n",
    "revcols = ['Revenue', 'Revenue per share']\n",
    "\n",
    "def mdlinpt(comp):\n",
    "    alldata = pd.read_pickle('../data/sp500finaldata.pkl')\n",
    "    alldata.sort_values(by=['firm', 'Year'], ascending=[True, True], inplace=True)\n",
    "    distenc = pd.DataFrame(labencdist.transform(alldata['DistanceFromLast']))\n",
    "    sectenc = pd.DataFrame(labencsector.transform(alldata['Sector']))\n",
    "    hotencoded = onehotenc.transform(pd.concat([sectenc, distenc], axis=1))\n",
    "    namesdist = ['DistLast_'+i for i in labencdist.classes_]\n",
    "    namessect = ['Sector_'+i for i in labencsector.classes_]\n",
    "    names = np.append(namessect, namesdist)\n",
    "    hotencoded = pd.DataFrame(hotencoded, columns=names)\n",
    "    alldata.drop(['Sector', 'DistanceFromLast'], axis=1, inplace=True)\n",
    "    alldata = pd.concat([alldata, hotencoded], axis=1)\n",
    "    maxrec = alldata[(alldata.firm==comp) & (alldata.firm != alldata.firm.shift(-1))]\n",
    "    maxrec = maxrec[totcols].reset_index(drop=True)\n",
    "    return maxrec\n",
    "\n",
    "def updater(maxrec, grrev, grinc, grasset, grliab, grentv):\n",
    "    maxrec[assetcols] *= (1+ grasset/100)\n",
    "    maxrec[liabcols] *= (1 + grliab/100)\n",
    "    maxrec[inccols] *= (1 + grinc/100)\n",
    "    maxrec[revcols] *= (1 + grrev/100)\n",
    "    maxrec['Cost of revenue'] = maxrec['Revenue'] - maxrec['Gross profit']\n",
    "    oldeq = maxrec[\"Total stockholders' equity\"]\n",
    "    maxrec[\"Total stockholders' equity\"] = maxrec['Total assets'] - maxrec['Total liabilities']\n",
    "    oldeq = maxrec[\"Total stockholders' equity\"] / oldeq\n",
    "    maxrec[equitycols] *= oldeq\n",
    "    maxrec[entvcols] *= grentv\n",
    "    #Updated final ratios\n",
    "    maxrec['Intangibles to Total Assets']  = maxrec['Intangible assets'] / maxrec['Total assets']\n",
    "    maxrec['Debt to Assets'] = maxrec['Total liabilities'] / maxrec['Total assets']\n",
    "    maxrec['EV to Sales'] = maxrec['Enterprise Value'] / maxrec['Revenue']\n",
    "    maxrec['Enterprise Value over EBITDA'] = maxrec['Enterprise Value'] / maxrec['EBITDA']\n",
    "    maxrec['R&D to Revenue'] = maxrec['Research and development'] / maxrec['Revenue']\n",
    "    maxrec['SG&A to Revenue'] = maxrec['Sales, General and administrative'] / maxrec['Revenue']\n",
    "    maxrec['Price to Sales Ratio'] *= grentv/grrev\n",
    "    maxrec['Paid_LastYr?'] = maxrec['Div_Paid?']\n",
    "    maxrec['Net Debt to EBITDA'] = maxrec['Total liabilities'] / maxrec['EBITDA']\n",
    "    maxrec['currentRatio'] = maxrec['Total current assets'] / maxrec['Total current liabilities']\n",
    "    maxrec['grossProfitMargin'] = maxrec['Gross profit'] / maxrec['Revenue']\n",
    "    maxrec['operatingProfitMargin'] = maxrec['Operating income'] / maxrec['Revenue']\n",
    "    maxrec['assetTurnover'] = maxrec['Revenue'] / maxrec['Total assets']\n",
    "    maxrec['returnOnAssets'] = maxrec['Net income'] / maxrec['Total assets']\n",
    "    maxrec['Net Current Asset Value'] = maxrec['Total current assets'] - maxrec['Total liabilities']\n",
    "    maxrec['PB ratio'] = maxrec['stockprc'] / maxrec['Book Value per Share']\n",
    "    return maxrec"
   ]
  },
  {
   "cell_type": "code",
   "execution_count": 11,
   "metadata": {},
   "outputs": [
    {
     "ename": "KeyError",
     "evalue": "\"['PBratio'] not in index\"",
     "output_type": "error",
     "traceback": [
      "\u001b[0;31m---------------------------------------------------------------------------\u001b[0m",
      "\u001b[0;31mKeyError\u001b[0m                                  Traceback (most recent call last)",
      "\u001b[0;32m<ipython-input-11-30bdc9b3e3ed>\u001b[0m in \u001b[0;36m<module>\u001b[0;34m\u001b[0m\n\u001b[0;32m----> 1\u001b[0;31m \u001b[0mupdater\u001b[0m\u001b[0;34m(\u001b[0m\u001b[0mmdlinpt\u001b[0m\u001b[0;34m(\u001b[0m\u001b[0;34m'MSFT'\u001b[0m\u001b[0;34m)\u001b[0m\u001b[0;34m,\u001b[0m\u001b[0;36m1\u001b[0m\u001b[0;34m,\u001b[0m\u001b[0;36m2\u001b[0m\u001b[0;34m,\u001b[0m\u001b[0;36m3\u001b[0m\u001b[0;34m,\u001b[0m\u001b[0;36m4\u001b[0m\u001b[0;34m,\u001b[0m\u001b[0;36m5\u001b[0m\u001b[0;34m)\u001b[0m\u001b[0;34m\u001b[0m\u001b[0;34m\u001b[0m\u001b[0m\n\u001b[0m",
      "\u001b[0;32m<ipython-input-10-974361123508>\u001b[0m in \u001b[0;36mmdlinpt\u001b[0;34m(comp)\u001b[0m\n\u001b[1;32m     41\u001b[0m     \u001b[0malldata\u001b[0m \u001b[0;34m=\u001b[0m \u001b[0mpd\u001b[0m\u001b[0;34m.\u001b[0m\u001b[0mconcat\u001b[0m\u001b[0;34m(\u001b[0m\u001b[0;34m[\u001b[0m\u001b[0malldata\u001b[0m\u001b[0;34m,\u001b[0m \u001b[0mhotencoded\u001b[0m\u001b[0;34m]\u001b[0m\u001b[0;34m,\u001b[0m \u001b[0maxis\u001b[0m\u001b[0;34m=\u001b[0m\u001b[0;36m1\u001b[0m\u001b[0;34m)\u001b[0m\u001b[0;34m\u001b[0m\u001b[0;34m\u001b[0m\u001b[0m\n\u001b[1;32m     42\u001b[0m     \u001b[0mmaxrec\u001b[0m \u001b[0;34m=\u001b[0m \u001b[0malldata\u001b[0m\u001b[0;34m[\u001b[0m\u001b[0;34m(\u001b[0m\u001b[0malldata\u001b[0m\u001b[0;34m.\u001b[0m\u001b[0mfirm\u001b[0m\u001b[0;34m==\u001b[0m\u001b[0mcomp\u001b[0m\u001b[0;34m)\u001b[0m \u001b[0;34m&\u001b[0m \u001b[0;34m(\u001b[0m\u001b[0malldata\u001b[0m\u001b[0;34m.\u001b[0m\u001b[0mfirm\u001b[0m \u001b[0;34m!=\u001b[0m \u001b[0malldata\u001b[0m\u001b[0;34m.\u001b[0m\u001b[0mfirm\u001b[0m\u001b[0;34m.\u001b[0m\u001b[0mshift\u001b[0m\u001b[0;34m(\u001b[0m\u001b[0;34m-\u001b[0m\u001b[0;36m1\u001b[0m\u001b[0;34m)\u001b[0m\u001b[0;34m)\u001b[0m\u001b[0;34m]\u001b[0m\u001b[0;34m\u001b[0m\u001b[0;34m\u001b[0m\u001b[0m\n\u001b[0;32m---> 43\u001b[0;31m     \u001b[0mmaxrec\u001b[0m \u001b[0;34m=\u001b[0m \u001b[0mmaxrec\u001b[0m\u001b[0;34m[\u001b[0m\u001b[0mtotcols\u001b[0m\u001b[0;34m]\u001b[0m\u001b[0;34m.\u001b[0m\u001b[0mreset_index\u001b[0m\u001b[0;34m(\u001b[0m\u001b[0mdrop\u001b[0m\u001b[0;34m=\u001b[0m\u001b[0;32mTrue\u001b[0m\u001b[0;34m)\u001b[0m\u001b[0;34m\u001b[0m\u001b[0;34m\u001b[0m\u001b[0m\n\u001b[0m\u001b[1;32m     44\u001b[0m     \u001b[0;32mreturn\u001b[0m \u001b[0mmaxrec\u001b[0m\u001b[0;34m\u001b[0m\u001b[0;34m\u001b[0m\u001b[0m\n\u001b[1;32m     45\u001b[0m \u001b[0;34m\u001b[0m\u001b[0m\n",
      "\u001b[0;32m/srv/conda/envs/notebook/lib/python3.7/site-packages/pandas/core/frame.py\u001b[0m in \u001b[0;36m__getitem__\u001b[0;34m(self, key)\u001b[0m\n\u001b[1;32m   2932\u001b[0m                 \u001b[0mkey\u001b[0m \u001b[0;34m=\u001b[0m \u001b[0mlist\u001b[0m\u001b[0;34m(\u001b[0m\u001b[0mkey\u001b[0m\u001b[0;34m)\u001b[0m\u001b[0;34m\u001b[0m\u001b[0;34m\u001b[0m\u001b[0m\n\u001b[1;32m   2933\u001b[0m             indexer = self.loc._convert_to_indexer(key, axis=1,\n\u001b[0;32m-> 2934\u001b[0;31m                                                    raise_missing=True)\n\u001b[0m\u001b[1;32m   2935\u001b[0m \u001b[0;34m\u001b[0m\u001b[0m\n\u001b[1;32m   2936\u001b[0m         \u001b[0;31m# take() does not accept boolean indexers\u001b[0m\u001b[0;34m\u001b[0m\u001b[0;34m\u001b[0m\u001b[0;34m\u001b[0m\u001b[0m\n",
      "\u001b[0;32m/srv/conda/envs/notebook/lib/python3.7/site-packages/pandas/core/indexing.py\u001b[0m in \u001b[0;36m_convert_to_indexer\u001b[0;34m(self, obj, axis, is_setter, raise_missing)\u001b[0m\n\u001b[1;32m   1352\u001b[0m                 kwargs = {'raise_missing': True if is_setter else\n\u001b[1;32m   1353\u001b[0m                           raise_missing}\n\u001b[0;32m-> 1354\u001b[0;31m                 \u001b[0;32mreturn\u001b[0m \u001b[0mself\u001b[0m\u001b[0;34m.\u001b[0m\u001b[0m_get_listlike_indexer\u001b[0m\u001b[0;34m(\u001b[0m\u001b[0mobj\u001b[0m\u001b[0;34m,\u001b[0m \u001b[0maxis\u001b[0m\u001b[0;34m,\u001b[0m \u001b[0;34m**\u001b[0m\u001b[0mkwargs\u001b[0m\u001b[0;34m)\u001b[0m\u001b[0;34m[\u001b[0m\u001b[0;36m1\u001b[0m\u001b[0;34m]\u001b[0m\u001b[0;34m\u001b[0m\u001b[0;34m\u001b[0m\u001b[0m\n\u001b[0m\u001b[1;32m   1355\u001b[0m         \u001b[0;32melse\u001b[0m\u001b[0;34m:\u001b[0m\u001b[0;34m\u001b[0m\u001b[0;34m\u001b[0m\u001b[0m\n\u001b[1;32m   1356\u001b[0m             \u001b[0;32mtry\u001b[0m\u001b[0;34m:\u001b[0m\u001b[0;34m\u001b[0m\u001b[0;34m\u001b[0m\u001b[0m\n",
      "\u001b[0;32m/srv/conda/envs/notebook/lib/python3.7/site-packages/pandas/core/indexing.py\u001b[0m in \u001b[0;36m_get_listlike_indexer\u001b[0;34m(self, key, axis, raise_missing)\u001b[0m\n\u001b[1;32m   1159\u001b[0m         self._validate_read_indexer(keyarr, indexer,\n\u001b[1;32m   1160\u001b[0m                                     \u001b[0mo\u001b[0m\u001b[0;34m.\u001b[0m\u001b[0m_get_axis_number\u001b[0m\u001b[0;34m(\u001b[0m\u001b[0maxis\u001b[0m\u001b[0;34m)\u001b[0m\u001b[0;34m,\u001b[0m\u001b[0;34m\u001b[0m\u001b[0;34m\u001b[0m\u001b[0m\n\u001b[0;32m-> 1161\u001b[0;31m                                     raise_missing=raise_missing)\n\u001b[0m\u001b[1;32m   1162\u001b[0m         \u001b[0;32mreturn\u001b[0m \u001b[0mkeyarr\u001b[0m\u001b[0;34m,\u001b[0m \u001b[0mindexer\u001b[0m\u001b[0;34m\u001b[0m\u001b[0;34m\u001b[0m\u001b[0m\n\u001b[1;32m   1163\u001b[0m \u001b[0;34m\u001b[0m\u001b[0m\n",
      "\u001b[0;32m/srv/conda/envs/notebook/lib/python3.7/site-packages/pandas/core/indexing.py\u001b[0m in \u001b[0;36m_validate_read_indexer\u001b[0;34m(self, key, indexer, axis, raise_missing)\u001b[0m\n\u001b[1;32m   1250\u001b[0m             \u001b[0;32mif\u001b[0m \u001b[0;32mnot\u001b[0m\u001b[0;34m(\u001b[0m\u001b[0mself\u001b[0m\u001b[0;34m.\u001b[0m\u001b[0mname\u001b[0m \u001b[0;34m==\u001b[0m \u001b[0;34m'loc'\u001b[0m \u001b[0;32mand\u001b[0m \u001b[0;32mnot\u001b[0m \u001b[0mraise_missing\u001b[0m\u001b[0;34m)\u001b[0m\u001b[0;34m:\u001b[0m\u001b[0;34m\u001b[0m\u001b[0;34m\u001b[0m\u001b[0m\n\u001b[1;32m   1251\u001b[0m                 \u001b[0mnot_found\u001b[0m \u001b[0;34m=\u001b[0m \u001b[0mlist\u001b[0m\u001b[0;34m(\u001b[0m\u001b[0mset\u001b[0m\u001b[0;34m(\u001b[0m\u001b[0mkey\u001b[0m\u001b[0;34m)\u001b[0m \u001b[0;34m-\u001b[0m \u001b[0mset\u001b[0m\u001b[0;34m(\u001b[0m\u001b[0max\u001b[0m\u001b[0;34m)\u001b[0m\u001b[0;34m)\u001b[0m\u001b[0;34m\u001b[0m\u001b[0;34m\u001b[0m\u001b[0m\n\u001b[0;32m-> 1252\u001b[0;31m                 \u001b[0;32mraise\u001b[0m \u001b[0mKeyError\u001b[0m\u001b[0;34m(\u001b[0m\u001b[0;34m\"{} not in index\"\u001b[0m\u001b[0;34m.\u001b[0m\u001b[0mformat\u001b[0m\u001b[0;34m(\u001b[0m\u001b[0mnot_found\u001b[0m\u001b[0;34m)\u001b[0m\u001b[0;34m)\u001b[0m\u001b[0;34m\u001b[0m\u001b[0;34m\u001b[0m\u001b[0m\n\u001b[0m\u001b[1;32m   1253\u001b[0m \u001b[0;34m\u001b[0m\u001b[0m\n\u001b[1;32m   1254\u001b[0m             \u001b[0;31m# we skip the warning on Categorical/Interval\u001b[0m\u001b[0;34m\u001b[0m\u001b[0;34m\u001b[0m\u001b[0;34m\u001b[0m\u001b[0m\n",
      "\u001b[0;31mKeyError\u001b[0m: \"['PBratio'] not in index\""
     ]
    }
   ],
   "source": [
    "updater(mdlinpt('MSFT'),1,2,3,4,5)"
   ]
  },
  {
   "cell_type": "code",
   "execution_count": 8,
   "metadata": {},
   "outputs": [
    {
     "data": {
      "text/plain": [
       "0       4.281985e+09\n",
       "1       3.770000e+08\n",
       "2       8.700000e+07\n",
       "3       5.780000e+08\n",
       "4       4.281985e+09\n",
       "5       4.281985e+09\n",
       "6       4.281985e+09\n",
       "7       4.281985e+09\n",
       "8       4.281985e+09\n",
       "9       4.281985e+09\n",
       "10      2.884615e+09\n",
       "11      3.597870e+08\n",
       "12      5.926190e+08\n",
       "13      1.815103e+10\n",
       "14      6.177464e+10\n",
       "15      4.227245e+10\n",
       "16      3.583507e+10\n",
       "17      3.592306e+10\n",
       "18      4.281985e+09\n",
       "19      4.281985e+09\n",
       "20      4.281985e+09\n",
       "21      4.281985e+09\n",
       "22      4.281985e+09\n",
       "23      4.281985e+09\n",
       "24      4.281985e+09\n",
       "25      4.586666e+09\n",
       "26      4.281985e+09\n",
       "27      6.554020e+09\n",
       "28      2.593270e+08\n",
       "29      3.056320e+09\n",
       "            ...     \n",
       "2062    4.281985e+09\n",
       "2063    4.281985e+09\n",
       "2064    4.281985e+09\n",
       "2065    4.281985e+09\n",
       "2066    4.281985e+09\n",
       "2067    4.281985e+09\n",
       "2068    4.281985e+09\n",
       "2069    4.281985e+09\n",
       "2070    4.281985e+09\n",
       "2071    4.281985e+09\n",
       "2072    4.281985e+09\n",
       "2073    4.281985e+09\n",
       "2074    4.281985e+09\n",
       "2075    4.281985e+09\n",
       "2076    4.281985e+09\n",
       "2077    4.281985e+09\n",
       "2078    4.281985e+09\n",
       "2079    4.281985e+09\n",
       "2080    4.281985e+09\n",
       "2081    4.281985e+09\n",
       "2082    1.207000e+09\n",
       "2083    4.281985e+09\n",
       "2084    4.281985e+09\n",
       "2085    4.281985e+09\n",
       "2086    4.281985e+09\n",
       "2087    4.281985e+09\n",
       "2088    4.255505e+09\n",
       "2089    4.281985e+09\n",
       "2090    3.975226e+09\n",
       "2091    4.170756e+09\n",
       "Name: Net Current Asset Value, Length: 2092, dtype: float64"
      ]
     },
     "execution_count": 8,
     "metadata": {},
     "output_type": "execute_result"
    }
   ],
   "source": [
    "alldata = pd.read_pickle('../data/sp500finaldata.pkl')\n",
    "alldata['Net Current Asset Value']"
   ]
  },
  {
   "cell_type": "code",
   "execution_count": 9,
   "metadata": {},
   "outputs": [
    {
     "data": {
      "text/plain": [
       "array(['Revenue', 'Cost of revenue', 'Gross profit',\n",
       "       'Research and development', 'Sales, General and administrative',\n",
       "       'Total operating expenses', 'Operating income', 'Interest Expense',\n",
       "       'Other income (expense)', 'Income before taxes',\n",
       "       'Provision for income taxes', 'Net income', 'Basic_EPS',\n",
       "       'Diluted_EPS', 'EBITDA', 'Total cash', 'Receivables',\n",
       "       'Inventories', 'Prepaid expenses', 'Other current assets',\n",
       "       'Total current assets', 'Gross property, plant and equipment',\n",
       "       'Accumulated Depreciation', 'Net property, plant and equipment',\n",
       "       'Goodwill', 'Intangible assets', 'Other long-term assets',\n",
       "       'Total non-current assets', 'Total assets', 'Short-term debt',\n",
       "       'Accounts payable', 'Taxes payable', 'Accrued liabilities',\n",
       "       'Other current liabilities', 'Total current liabilities',\n",
       "       'Long-term debt', 'Deferred taxes liabilities',\n",
       "       'Other long-term liabilities', 'Total non-current liabilities',\n",
       "       'Total liabilities', 'Common stock', 'Additional paid-in capital',\n",
       "       'Retained earnings', 'Treasury stock',\n",
       "       'Accumulated other comprehensive income',\n",
       "       \"Total stockholders' equity\",\n",
       "       \"Total liabilities and stockholders' equity\",\n",
       "       'Capex to Operating Cash Flow', 'Capex to Revenue',\n",
       "       'Cash per Share', 'Days Sales Outstanding', 'Debt to Assets',\n",
       "       'Dividend Yield', 'EV to Free cash flow',\n",
       "       'EV to Operating cash flow', 'EV to Sales', 'Earnings Yield',\n",
       "       'Enterprise Value', 'Enterprise Value over EBITDA',\n",
       "       'Free Cash Flow Yield', 'Free Cash Flow per Share',\n",
       "       'Graham Net-Net', 'Graham Number', 'Income Quality',\n",
       "       'Intangibles to Total Assets', 'Interest Coverage',\n",
       "       'Interest Debt per Share', 'Net Debt to EBITDA',\n",
       "       'Net Income per Share', 'Operating Cash Flow per Share',\n",
       "       'PB ratio', 'PE ratio', 'PFCF ratio', 'POCF ratio', 'PTB ratio',\n",
       "       'Payout Ratio', 'Price to Sales Ratio', 'R&D to Revenue',\n",
       "       'Revenue per Share', 'SG&A to Revenue',\n",
       "       'Shareholders Equity per Share',\n",
       "       'Stock-based compensation to Revenue',\n",
       "       'Tangible Book Value per Share', 'stockprc', 'mth6stockratio',\n",
       "       'mth12stockratio', 'firm', 'Sector', 'GDP', 'GNI', 'Market_Cap',\n",
       "       'Index Value', 'Standard Error', 'Average Inventory',\n",
       "       'Average Payables', 'Average Receivables', 'Book Value per Share',\n",
       "       'Capex per Share', 'Capex to Depreciation',\n",
       "       'Days Payables Outstanding', 'Days of Inventory on Hand',\n",
       "       'Inventory Turnover', 'Invested Capital', 'Market Cap',\n",
       "       'Net Current Asset Value', 'Payables Turnover', 'Dividend',\n",
       "       'Div_Paid?', 'Paid_LastYr?', 'DistanceFromLast', 'Year',\n",
       "       'SectPaidLastYr', 'PropSectorAvgMktCap', 'currentRatio',\n",
       "       'grossProfitMargin', 'operatingProfitMargin', 'returnOnAssets',\n",
       "       'assetTurnover'], dtype=object)"
      ]
     },
     "execution_count": 9,
     "metadata": {},
     "output_type": "execute_result"
    }
   ],
   "source": [
    "alldata.columns.values"
   ]
  },
  {
   "cell_type": "code",
   "execution_count": null,
   "metadata": {},
   "outputs": [],
   "source": []
  }
 ],
 "metadata": {
  "kernelspec": {
   "display_name": "Python 3",
   "language": "python",
   "name": "python3"
  },
  "language_info": {
   "codemirror_mode": {
    "name": "ipython",
    "version": 3
   },
   "file_extension": ".py",
   "mimetype": "text/x-python",
   "name": "python",
   "nbconvert_exporter": "python",
   "pygments_lexer": "ipython3",
   "version": "3.7.3"
  }
 },
 "nbformat": 4,
 "nbformat_minor": 2
}
